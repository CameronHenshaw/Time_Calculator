{
 "cells": [
  {
   "cell_type": "markdown",
   "metadata": {},
   "source": [
    "# Time Calculator\n",
    "\n",
    "This project is from the freecodecamp.com course \"Scientific Computing with Python.\" Check out the readme for the exact project specifications."
   ]
  },
  {
   "cell_type": "code",
   "execution_count": 1,
   "metadata": {},
   "outputs": [],
   "source": [
    "def add_time(start, time_add, day=\"\"):\n",
    "    days_to_add = 0\n",
    "    night_fell = False\n",
    "    start_hours_mins, am_or_pm = start.split() #splits starting time to separate time from am/pm\n",
    "    start_hours, start_mins = start_hours_mins.split(\":\") #splits starting time into mins/hours\n",
    "    hours, mins = time_add.split(\":\") #splits added time into mins/hours\n",
    "   \n",
    "    total_mins = int(start_mins) + int(mins)\n",
    "    total_hours = int(start_hours) + int(hours) + (total_mins // 60)\n",
    "    remaining_mins = total_mins % 60\n",
    "    half_days = 0\n",
    "    final_hours = total_hours\n",
    "    if total_hours > 11: #loop checks if we go over 12\n",
    "        final_hours = total_hours % 12\n",
    "        half_days = total_hours // 12\n",
    "        \n",
    "        if half_days % 2 == 0: # checks if the added half days are even or odd, so that we can change am or pm if necessary\n",
    "            pass\n",
    "        else:\n",
    "            if am_or_pm == \"AM\": #changes am or pm or vice versa\n",
    "                am_or_pm = \"PM\"\n",
    "            else:\n",
    "                am_or_pm = \"AM\"\n",
    "                night_fell = True\n",
    "\n",
    "    if half_days >= 1:\n",
    "        if night_fell == True:\n",
    "            days_to_add = half_days // 2 + 1 \n",
    "        else:\n",
    "            days_to_add = half_days // 2\n",
    "    days_list = [\"monday\", \"tuesday\", \"wednesday\", \"thursday\", \"friday\", \"saturday\", \"sunday\"]\n",
    "    if day != \"\":\n",
    "        days_for_list = days_to_add % 7\n",
    "        index = days_list.index(day.lower())\n",
    "        new_index = (days_for_list + index)\n",
    "        if new_index > 6:\n",
    "            new_index = new_index % 7\n",
    "        \n",
    "    if final_hours == 0: #fixes 0 o'clock problem\n",
    "        final_hours = 12\n",
    "    final_string = str(final_hours) +\":\" #Formatting output\n",
    "    if remaining_mins < 10:\n",
    "        final_string += \"0\" + str(remaining_mins) + \" \" + am_or_pm\n",
    "    else:\n",
    "        final_string += str(remaining_mins) + \" \" + am_or_pm\n",
    "    if day != \"\":\n",
    "        final_string += \", \" + (days_list[new_index]).capitalize()\n",
    "    if days_to_add == 1:\n",
    "        final_string += \" (next day)\"\n",
    "    elif days_to_add > 0:\n",
    "        final_string += \" \" + \"(\" + str(days_to_add) + \" days later)\"\n",
    "    return(final_string)\n",
    "    \n"
   ]
  },
  {
   "cell_type": "code",
   "execution_count": 6,
   "metadata": {},
   "outputs": [
    {
     "name": "stdout",
     "output_type": "stream",
     "text": [
      "5:42 PM\n",
      "3:07 PM\n",
      "2:45 AM (next day)\n",
      "12:05 PM\n",
      "2:59 AM (next day)\n",
      "12:04 AM (2 days later)\n",
      "6:18 AM (20 days later)\n",
      "5:01 AM\n",
      "5:42 PM, Monday\n",
      "2:59 AM, Sunday (next day)\n",
      "12:04 AM, Friday (2 days later)\n",
      "6:18 AM, Monday (20 days later)\n"
     ]
    }
   ],
   "source": [
    "print(add_time(\"3:30 PM\", \"2:12\"))\n",
    " \n",
    "print(add_time(\"11:55 AM\", \"3:12\"))\n",
    " \n",
    "print(add_time(\"9:15 PM\", \"5:30\"))\n",
    " \n",
    "print(add_time(\"11:40 AM\", \"0:25\"))\n",
    " \n",
    "print(add_time(\"2:59 AM\", \"24:00\"))\n",
    " \n",
    "print(add_time(\"11:59 PM\", \"24:05\"))\n",
    "\n",
    "print(add_time(\"8:16 PM\", \"466:02\"))\n",
    "\n",
    "print(add_time(\"5:01 AM\", \"0:00\"))\n",
    "\n",
    "print(add_time(\"3:30 PM\", \"2:12\", \"Monday\"))\n",
    "\n",
    "print(add_time(\"2:59 AM\", \"24:00\", \"saturDay\"))\n",
    "\n",
    "print(add_time(\"11:59 PM\", \"24:05\", \"Wednesday\"))\n",
    "\n",
    "print(add_time(\"8:16 PM\", \"466:02\", \"tuesday\"))"
   ]
  },
  {
   "cell_type": "markdown",
   "metadata": {},
   "source": [
    "The project specifications stated not to important any modules or libraries, hence the fairly tedious workarounds."
   ]
  },
  {
   "cell_type": "code",
   "execution_count": null,
   "metadata": {},
   "outputs": [],
   "source": []
  }
 ],
 "metadata": {
  "kernelspec": {
   "display_name": "Python 3",
   "language": "python",
   "name": "python3"
  },
  "language_info": {
   "codemirror_mode": {
    "name": "ipython",
    "version": 3
   },
   "file_extension": ".py",
   "mimetype": "text/x-python",
   "name": "python",
   "nbconvert_exporter": "python",
   "pygments_lexer": "ipython3",
   "version": "3.7.4"
  }
 },
 "nbformat": 4,
 "nbformat_minor": 2
}
